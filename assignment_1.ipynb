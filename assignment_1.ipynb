{
  "nbformat": 4,
  "nbformat_minor": 0,
  "metadata": {
    "colab": {
      "provenance": []
    },
    "kernelspec": {
      "name": "python3",
      "display_name": "Python 3"
    },
    "language_info": {
      "name": "python"
    }
  },
  "cells": [
    {
      "cell_type": "code",
      "execution_count": 1,
      "metadata": {
        "id": "dDD-ALmeG4DX",
        "outputId": "3fcdba7e-299d-400e-a39f-5a8cbe9c47ad",
        "colab": {
          "base_uri": "https://localhost:8080/"
        }
      },
      "outputs": [
        {
          "output_type": "stream",
          "name": "stdout",
          "text": [
            "*\n",
            "**\n",
            "***\n",
            "****\n",
            "*****\n",
            "\n",
            "\n",
            "    *\n",
            "   **\n",
            "  ***\n",
            " ****\n",
            "*****\n",
            "\n",
            "\n",
            "    *    \n",
            "   ***   \n",
            "  *****  \n",
            " ******* \n",
            "*********\n"
          ]
        }
      ],
      "source": [
        "def lower_triangular(rows):\n",
        "    for i in range(1, rows + 1):\n",
        "        print(\"*\" * i)\n",
        "\n",
        "def upper_triangular(rows):\n",
        "    for i in range(1, rows + 1):\n",
        "        print(\" \" * (rows - i) + \"*\" * i)\n",
        "\n",
        "def pyramid(rows):\n",
        "    for i in range(1, rows + 1):\n",
        "        print(\" \" * (rows - i ) + \"*\" * ( 2 * i - 1) + \" \" * (rows - i))\n",
        "\n",
        "rows = 5\n",
        "lower_triangular(rows)\n",
        "print(\"\\n\")\n",
        "upper_triangular(rows)\n",
        "print(\"\\n\")\n",
        "pyramid(rows)\n"
      ]
    },
    {
      "cell_type": "code",
      "source": [],
      "metadata": {
        "id": "wzXtr5LkG6EG"
      },
      "execution_count": null,
      "outputs": []
    }
  ]
}